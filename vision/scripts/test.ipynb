{
 "cells": [
  {
   "cell_type": "code",
   "execution_count": 21,
   "metadata": {},
   "outputs": [],
   "source": [
    "import cv2\n",
    "import time\n",
    "import numpy as np\n",
    "\n",
    "\n",
    "def threshImageBg():\n",
    "    # Load the image\n",
    "    image = cv2.imread(\"/home/nata-brain/camera_ws/src/EyeHeadTrack/vision/report/heatmap.png\")\n",
    "\n",
    "    # Define the white color range in BGR format\n",
    "    lower_white = np.array([200, 200, 200], dtype=np.uint8)\n",
    "    upper_white = np.array([255, 255, 255], dtype=np.uint8)\n",
    "\n",
    "    # Create a mask of white pixels within the defined range\n",
    "    mask = cv2.inRange(image, lower_white, upper_white)\n",
    "\n",
    "    # Invert the mask to select non-white pixels\n",
    "    mask_inv = cv2.bitwise_not(mask)\n",
    "\n",
    "    # Apply the mask to remove white pixels\n",
    "    result = cv2.bitwise_and(image, image, mask=mask_inv)\n",
    "\n",
    "    # Save the result image\n",
    "    cv2.imwrite(\"/home/nata-brain/camera_ws/src/EyeHeadTrack/vision/report/heatmap1.jpg\", result)\n",
    "\n",
    "\n",
    "# ADD Images\n",
    "def addImages():\n",
    "    base_image = cv2.imread(\"/home/nata-brain/camera_ws/src/EyeHeadTrack/vision/test_images/grocery.jpg\")\n",
    "    threshImageBg()\n",
    "    overlay_image = cv2.imread(\"/home/nata-brain/camera_ws/src/EyeHeadTrack/vision/report/heatmap1.jpg\")\n",
    "    \n",
    "    # Resize the overlay image to match the dimensions of the base image\n",
    "    overlay_image = cv2.resize(overlay_image, (base_image.shape[1], base_image.shape[0]))\n",
    "\n",
    "    # Convert the images to grayscale\n",
    "    base_gray = cv2.cvtColor(base_image, cv2.COLOR_BGR2GRAY)\n",
    "    overlay_gray = cv2.cvtColor(overlay_image, cv2.COLOR_BGR2GRAY)\n",
    "\n",
    "    # Create a mask by thresholding the overlay image\n",
    "    _, mask = cv2.threshold(overlay_gray, 15, 255, cv2.THRESH_BINARY)\n",
    "\n",
    "    # Invert the mask\n",
    "    mask_inv = cv2.bitwise_not(mask)\n",
    "\n",
    "    # Use bitwise operations to apply the mask and overlay the images\n",
    "    base_masked = cv2.bitwise_and(base_image, base_image, mask=mask_inv)\n",
    "    overlay_masked = cv2.bitwise_and(overlay_image, overlay_image, mask=mask)\n",
    "    result = cv2.add(base_masked, overlay_masked)\n",
    "\n",
    "    # Save the resulting image\n",
    "    cv2.imwrite(\"/home/nata-brain/camera_ws/src/EyeHeadTrack/vision/report/result_image.jpg\", result)\n",
    "    \n",
    "if __name__ == '__main__':\n",
    "    addImages()"
   ]
  },
  {
   "cell_type": "code",
   "execution_count": 50,
   "metadata": {},
   "outputs": [],
   "source": [
    "#!/home/nata-brain/miniconda3/envs/eyegaze/bin/python\n",
    "import cv2\n",
    "import numpy as np\n",
    "import pandas as pd\n",
    "from PIL import Image\n",
    "import seaborn as sns\n",
    "import matplotlib.pyplot as plt\n",
    "from sklearn.cluster import DBSCAN\n",
    "sns.set(style=\"whitegrid\",rc={\"figure.figsize\": (19.2, 10.8)})\n",
    "\n",
    "# Lib to data processing \n",
    "class dbscanAlgo:\n",
    "    def __init__(self):\n",
    "        self.df                 = pd.read_csv('/home/nata-brain/camera_ws/src/EyeHeadTrack/vision/dataset/gaze_points.csv') \n",
    "        self.X_train            = self.df\n",
    "        self.clustering         = DBSCAN(eps=12.5, min_samples=4).fit(self.X_train)\n",
    "        self.DBSCAN_dataset     = self.X_train.copy()\n",
    "        self.outliers           = ''\n",
    "        self.img                = np.asarray(Image.open('/home/nata-brain/camera_ws/src/EyeHeadTrack/vision/test_images/grocery.jpg'))\n",
    "        self.path_save          = '/home/nata-brain/camera_ws/src/EyeHeadTrack/vision/report/'\n",
    "        self.path_              = '/home/nata-brain/camera_ws/src/EyeHeadTrack/vision/dataset/'\n",
    "        self.df_plot            = ''\n",
    "        \n",
    "    # Processing dataframe    \n",
    "    def dfHandling(self):\n",
    "        self.DBSCAN_dataset.loc[:,'Cluster'] = self.clustering.labels_ \n",
    "        self.DBSCAN_dataset.Cluster.value_counts().to_frame()\n",
    "        self.outliers = self.DBSCAN_dataset[self.DBSCAN_dataset['Cluster']==-1]\n",
    "        self.df = self.DBSCAN_dataset[self.DBSCAN_dataset['Cluster'] !=-1]\n",
    "        \n",
    "    def plotClusters(self):    \n",
    "        plt.figure(figsize=(19.2, 10.8))\n",
    "        sns.scatterplot(data = self.df, x = \"x\", y = \"y\", hue = self.df.Cluster, legend = \"full\", palette = \"deep\")\n",
    "        plt.savefig(f'{self.path_save}clusters.png')        \n",
    "        plt.xlim(0, 1920)\n",
    "        plt.ylim(0, 1080)\n"
   ]
  },
  {
   "cell_type": "code",
   "execution_count": 58,
   "metadata": {},
   "outputs": [
    {
     "data": {
      "text/plain": [
       "46     1.689258e+09\n",
       "47     1.689258e+09\n",
       "48     1.689258e+09\n",
       "49     1.689258e+09\n",
       "50     1.689258e+09\n",
       "           ...     \n",
       "319    1.689258e+09\n",
       "320    1.689258e+09\n",
       "321    1.689258e+09\n",
       "322    1.689258e+09\n",
       "323    1.689258e+09\n",
       "Name: timestamp, Length: 79, dtype: float64"
      ]
     },
     "execution_count": 58,
     "metadata": {},
     "output_type": "execute_result"
    }
   ],
   "source": [
    "obj = dbscanAlgo()\n",
    "obj.dfHandling()\n",
    "obj.df.timestamp"
   ]
  },
  {
   "cell_type": "code",
   "execution_count": 81,
   "metadata": {},
   "outputs": [],
   "source": [
    "obj.dfHandling()"
   ]
  },
  {
   "cell_type": "code",
   "execution_count": 110,
   "metadata": {},
   "outputs": [
    {
     "data": {
      "text/plain": [
       "46      True\n",
       "47      True\n",
       "48      True\n",
       "49      True\n",
       "50      True\n",
       "       ...  \n",
       "319    False\n",
       "320    False\n",
       "321    False\n",
       "322    False\n",
       "323    False\n",
       "Name: Cluster, Length: 79, dtype: bool"
      ]
     },
     "execution_count": 110,
     "metadata": {},
     "output_type": "execute_result"
    }
   ],
   "source": [
    "filter_ = obj.df['Cluster'] == 0\n",
    "filter_ =\n",
    "filter_"
   ]
  },
  {
   "cell_type": "code",
   "execution_count": 131,
   "metadata": {},
   "outputs": [
    {
     "name": "stdout",
     "output_type": "stream",
     "text": [
      "0\n",
      "time:  2023-07-13 11:17:26.572297\n",
      "11:17:26\n",
      "1\n",
      "time:  2023-07-13 11:17:26.606917\n",
      "11:17:26\n",
      "2\n",
      "time:  2023-07-13 11:17:26.639695\n",
      "11:17:26\n",
      "3\n",
      "time:  2023-07-13 11:17:26.671718\n",
      "11:17:26\n",
      "4\n",
      "time:  2023-07-13 11:17:26.707232\n",
      "11:17:26\n",
      "5\n",
      "time:  2023-07-13 11:17:26.739590\n",
      "11:17:26\n",
      "6\n",
      "time:  2023-07-13 11:17:26.771232\n",
      "11:17:26\n",
      "[0, 1, 2, 3, 4, 5, 6]\n",
      "[1689257846.572297, 1689257846.6069171, 1689257846.6396954, 1689257846.6717184, 1689257846.7072322, 1689257846.7395902, 1689257846.7712317]\n"
     ]
    }
   ],
   "source": [
    "from datetime import datetime\n",
    "\n",
    "clus_vect = obj.df.loc[:, [\"timestamp\", \"Cluster\"]]\n",
    "aux = 0\n",
    "log = []\n",
    "count = 0\n",
    "t_stamp = []\n",
    "\n",
    "for id, column in enumerate(clus_vect['Cluster']):\n",
    "    if column == aux:\n",
    "        count = count + 1\n",
    "        log.append(id)\n",
    "\n",
    "for id in log:\n",
    "    print(id)       \n",
    "    t_stamp.append(clus_vect[\"timestamp\"].loc[clus_vect.index[id]]) \n",
    "    time =  datetime.fromtimestamp(clus_vect[\"timestamp\"].loc[clus_vect.index[id]])\n",
    "    d = time.strftime(\"%X\")\n",
    "    print(d)\n",
    "            \n",
    "print(log)\n",
    "print(t_stamp)"
   ]
  },
  {
   "cell_type": "code",
   "execution_count": 90,
   "metadata": {},
   "outputs": [
    {
     "name": "stdout",
     "output_type": "stream",
     "text": [
      "46     0\n",
      "47     0\n",
      "48     0\n",
      "49     0\n",
      "50     0\n",
      "      ..\n",
      "319    9\n",
      "320    9\n",
      "321    9\n",
      "322    9\n",
      "323    9\n",
      "Name: Cluster, Length: 79, dtype: int64\n"
     ]
    }
   ],
   "source": [
    "print(clus_vect)"
   ]
  },
  {
   "cell_type": "code",
   "execution_count": null,
   "metadata": {},
   "outputs": [],
   "source": []
  }
 ],
 "metadata": {
  "kernelspec": {
   "display_name": "eyegaze",
   "language": "python",
   "name": "python3"
  },
  "language_info": {
   "codemirror_mode": {
    "name": "ipython",
    "version": 3
   },
   "file_extension": ".py",
   "mimetype": "text/x-python",
   "name": "python",
   "nbconvert_exporter": "python",
   "pygments_lexer": "ipython3",
   "version": "3.9.16"
  },
  "orig_nbformat": 4
 },
 "nbformat": 4,
 "nbformat_minor": 2
}
